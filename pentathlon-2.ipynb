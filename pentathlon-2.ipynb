{
 "cells": [
  {
   "cell_type": "markdown",
   "metadata": {},
   "source": [
    "# Pentathlon 2: Testing for the best frequency"
   ]
  },
  {
   "cell_type": "code",
   "execution_count": 1,
   "metadata": {},
   "outputs": [],
   "source": [
    "# loading required python packages\n",
    "# you can add more packages as needed but *only* use packages \n",
    "# that are already part of the docker computing environment\n",
    "import numpy as np\n",
    "import pandas as pd\n",
    "import seaborn as sns"
   ]
  },
  {
   "cell_type": "markdown",
   "metadata": {},
   "source": [
    "### Question 1: Calculate the CLV over 8 weeks for each email frequency (8 points)"
   ]
  },
  {
   "cell_type": "code",
   "execution_count": 32,
   "metadata": {
    "lines_to_next_cell": 2
   },
   "outputs": [],
   "source": [
    "# load data from the excel file here\n",
    "# each freq1-freq5 variable should be a pandas DataFrame with shape (8, 3)\n",
    "# set the colum names to \"attr\" for subcriber attrition, \"rev_sub\" for average revenue\n",
    "# from a subscribed customer, and \"rev_unsub\" for average revenue\n",
    "# from an unsubscribed customer\n",
    "data = pd.read_excel(\"data/pentathlon-2.xls\", header=None)\n",
    "\n",
    "freq1 = data.iloc[1:4, 1:].T.rename(columns ={1:\"attr\", 2:\"rev_sub\", 3:\"rev_unsub\"}).reset_index(drop = True)\n",
    "freq2 = data.iloc[6:9, 1:].T.rename(columns ={6:\"attr\", 7:\"rev_sub\", 8:\"rev_unsub\"}).reset_index(drop = True)\n",
    "freq3 = data.iloc[11:14, 1:].T.rename(columns ={11:\"attr\", 12:\"rev_sub\", 13:\"rev_unsub\"}).reset_index(drop = True)\n",
    "freq4 = data.iloc[16:19, 1:].T.rename(columns ={16:\"attr\", 17:\"rev_sub\", 18:\"rev_unsub\"}).reset_index(drop = True)\n",
    "freq5 = data.iloc[21:24, 1:].T.rename(columns ={21:\"attr\", 22:\"rev_sub\", 23:\"rev_unsub\"}).reset_index(drop = True)\n",
    "\n",
    "freq1[\"attr\"][1:8] = freq1[\"attr\"][0:7]\n",
    "freq1.iloc[0,0] = 0\n",
    "\n",
    "freq2[\"attr\"][1:8] = freq2[\"attr\"][0:7]\n",
    "freq2.iloc[0,0] = 0\n",
    "\n",
    "freq3[\"attr\"][1:8] = freq3[\"attr\"][0:7]\n",
    "freq3.iloc[0,0] = 0\n",
    "\n",
    "freq4[\"attr\"][1:8] = freq4[\"attr\"][0:7]\n",
    "freq4.iloc[0,0] = 0\n",
    "\n",
    "freq5[\"attr\"][1:8] = freq5[\"attr\"][0:7]\n",
    "freq5.iloc[0,0] = 0"
   ]
  },
  {
   "cell_type": "code",
   "execution_count": 33,
   "metadata": {},
   "outputs": [
    {
     "data": {
      "text/html": [
       "<div>\n",
       "<style scoped>\n",
       "    .dataframe tbody tr th:only-of-type {\n",
       "        vertical-align: middle;\n",
       "    }\n",
       "\n",
       "    .dataframe tbody tr th {\n",
       "        vertical-align: top;\n",
       "    }\n",
       "\n",
       "    .dataframe thead th {\n",
       "        text-align: right;\n",
       "    }\n",
       "</style>\n",
       "<table border=\"1\" class=\"dataframe\">\n",
       "  <thead>\n",
       "    <tr style=\"text-align: right;\">\n",
       "      <th></th>\n",
       "      <th>attr</th>\n",
       "      <th>rev_sub</th>\n",
       "      <th>rev_unsub</th>\n",
       "    </tr>\n",
       "  </thead>\n",
       "  <tbody>\n",
       "    <tr>\n",
       "      <th>0</th>\n",
       "      <td>0</td>\n",
       "      <td>0.36</td>\n",
       "      <td>0</td>\n",
       "    </tr>\n",
       "    <tr>\n",
       "      <th>1</th>\n",
       "      <td>0.0385</td>\n",
       "      <td>0.34</td>\n",
       "      <td>0.19</td>\n",
       "    </tr>\n",
       "    <tr>\n",
       "      <th>2</th>\n",
       "      <td>0.0525</td>\n",
       "      <td>0.3</td>\n",
       "      <td>0.16</td>\n",
       "    </tr>\n",
       "    <tr>\n",
       "      <th>3</th>\n",
       "      <td>0.058</td>\n",
       "      <td>0.38</td>\n",
       "      <td>0.18</td>\n",
       "    </tr>\n",
       "    <tr>\n",
       "      <th>4</th>\n",
       "      <td>0.0413</td>\n",
       "      <td>0.39</td>\n",
       "      <td>0.17</td>\n",
       "    </tr>\n",
       "    <tr>\n",
       "      <th>5</th>\n",
       "      <td>0.0398</td>\n",
       "      <td>0.34</td>\n",
       "      <td>0.12</td>\n",
       "    </tr>\n",
       "    <tr>\n",
       "      <th>6</th>\n",
       "      <td>0.031</td>\n",
       "      <td>0.36</td>\n",
       "      <td>0.12</td>\n",
       "    </tr>\n",
       "    <tr>\n",
       "      <th>7</th>\n",
       "      <td>0.031</td>\n",
       "      <td>0.37</td>\n",
       "      <td>0.12</td>\n",
       "    </tr>\n",
       "  </tbody>\n",
       "</table>\n",
       "</div>"
      ],
      "text/plain": [
       "     attr rev_sub rev_unsub\n",
       "0       0    0.36         0\n",
       "1  0.0385    0.34      0.19\n",
       "2  0.0525     0.3      0.16\n",
       "3   0.058    0.38      0.18\n",
       "4  0.0413    0.39      0.17\n",
       "5  0.0398    0.34      0.12\n",
       "6   0.031    0.36      0.12\n",
       "7   0.031    0.37      0.12"
      ]
     },
     "execution_count": 33,
     "metadata": {},
     "output_type": "execute_result"
    }
   ],
   "source": [
    "freq4"
   ]
  },
  {
   "cell_type": "markdown",
   "metadata": {},
   "source": [
    "# Assumptions\n",
    "1. The cost of goods sold was 60%.\n",
    "2. Pentathlon used an annual discount rate of 10%.\n",
    "3. All unsubscribe requests would be processed at the end of each week, which means customers who unsubscribed, for example, on Wednesday, **will still be considered as subscribed customer until the beginning of the next week.**"
   ]
  },
  {
   "cell_type": "code",
   "execution_count": 34,
   "metadata": {},
   "outputs": [],
   "source": [
    "# list your assumptions here\n",
    "weeks = np.arange(1, 9)\n",
    "cogs = 0.6 # cost of goods sold\n",
    "annual_discount_rate = 0.1\n",
    "weekly_discount_rate = pow(1 + annual_discount_rate, (1 / 52)) - 1"
   ]
  },
  {
   "cell_type": "code",
   "execution_count": 35,
   "metadata": {},
   "outputs": [],
   "source": [
    "# calculate CLV for e-mail frequency 4 (i.e., freq4)\n",
    "# this will require calculating each of the following variables\n",
    "# each calculated object should be of shape (8,)"
   ]
  },
  {
   "cell_type": "code",
   "execution_count": 37,
   "metadata": {},
   "outputs": [
    {
     "data": {
      "text/plain": [
       "0         0\n",
       "1    0.0385\n",
       "2    0.0525\n",
       "3     0.058\n",
       "4    0.0413\n",
       "5    0.0398\n",
       "6     0.031\n",
       "7     0.031\n",
       "Name: attr, dtype: object"
      ]
     },
     "execution_count": 37,
     "metadata": {},
     "output_type": "execute_result"
    }
   ],
   "source": [
    "profit_subcribed = (1 - cogs) * freq4[\"rev_sub\"]\n",
    "profit_unsubscribed = (1 - cogs) * freq4[\"rev_unsub\"]\n",
    "probability_subscribed = (1 - freq4[\"attr\"]).cumprod()\n",
    "probability_unsubscribed = 1 - probability_subscribed\n",
    "expected_profit = profit_subcribed * probability_subscribed + profit_unsubscribed * probability_unsubscribed\n",
    "pv_expected_profit = expected_profit / np.power(1 + weekly_discount_rate, weeks)\n",
    "clv = np.cumsum(pv_expected_profit)\n"
   ]
  },
  {
   "cell_type": "code",
   "execution_count": 43,
   "metadata": {},
   "outputs": [],
   "source": [
    "# take your code above and use it as the base to define a function to calculate clv \n",
    "# this will avoid repetitive code\n",
    "# note that the function \"clv_calc\" should be sufficiently general to work with the data\n",
    "# for each of the 5 e-mail frequencies \n",
    "# note that the function must be defined in a cell above the code that calls the function"
   ]
  },
  {
   "cell_type": "code",
   "execution_count": 22,
   "metadata": {},
   "outputs": [],
   "source": [
    "def clv_calc(df, weeks, cogs, wd):\n",
    "    \"\"\"\n",
    "    Calculate the cumulative present value of profits\n",
    "    and CLV for a pandas data frame using the results from \n",
    "    the email frequency experiment\n",
    "    \n",
    "    Parameters\n",
    "    ----------\n",
    "    df : Pandas DataFrame (8, 3)\n",
    "        A DataFrame with revenue and attrition information\n",
    "    weeks : Numpy array \n",
    "        Array of shape (8,) with values 1 through 8\n",
    "    cogs : float\n",
    "        Cost of Goods Sold\n",
    "    wd: float\n",
    "        Weekly discount rate\n",
    "        \n",
    "    Returns\n",
    "    -------\n",
    "    Pandas series of shape (8,)\n",
    "        CLV values calculate for week 1 through week 8\n",
    "\n",
    "    \"\"\"\n",
    "    profit_subcribed = (1 - cogs) * df[\"rev_sub\"]\n",
    "    profit_unsubscribed = (1 - cogs) * df[\"rev_unsub\"]\n",
    "    probability_subscribed = (1 - df[\"attr\"]).cumprod()\n",
    "    probability_unsubscribed = 1 - probability_subscribed\n",
    "    expected_profit = profit_subcribed * probability_subscribed + profit_unsubscribed * probability_unsubscribed\n",
    "    pv_expected_profit = expected_profit / np.power(1 + wd, weeks)\n",
    "    clv = np.cumsum(pv_expected_profit)\n",
    "    return clv.astype(np.float64)"
   ]
  },
  {
   "cell_type": "code",
   "execution_count": 24,
   "metadata": {},
   "outputs": [
    {
     "data": {
      "text/html": [
       "<div>\n",
       "<style scoped>\n",
       "    .dataframe tbody tr th:only-of-type {\n",
       "        vertical-align: middle;\n",
       "    }\n",
       "\n",
       "    .dataframe tbody tr th {\n",
       "        vertical-align: top;\n",
       "    }\n",
       "\n",
       "    .dataframe thead th {\n",
       "        text-align: right;\n",
       "    }\n",
       "</style>\n",
       "<table border=\"1\" class=\"dataframe\">\n",
       "  <thead>\n",
       "    <tr style=\"text-align: right;\">\n",
       "      <th></th>\n",
       "      <th>weeks</th>\n",
       "      <th>freq1</th>\n",
       "      <th>freq2</th>\n",
       "      <th>freq3</th>\n",
       "      <th>freq4</th>\n",
       "      <th>freq5</th>\n",
       "    </tr>\n",
       "  </thead>\n",
       "  <tbody>\n",
       "    <tr>\n",
       "      <th>0</th>\n",
       "      <td>1</td>\n",
       "      <td>0.115788</td>\n",
       "      <td>0.139744</td>\n",
       "      <td>0.147729</td>\n",
       "      <td>0.143736</td>\n",
       "      <td>0.143736</td>\n",
       "    </tr>\n",
       "    <tr>\n",
       "      <th>1</th>\n",
       "      <td>2</td>\n",
       "      <td>0.239116</td>\n",
       "      <td>0.259042</td>\n",
       "      <td>0.269880</td>\n",
       "      <td>0.276937</td>\n",
       "      <td>0.271861</td>\n",
       "    </tr>\n",
       "    <tr>\n",
       "      <th>2</th>\n",
       "      <td>3</td>\n",
       "      <td>0.357969</td>\n",
       "      <td>0.397294</td>\n",
       "      <td>0.409082</td>\n",
       "      <td>0.391324</td>\n",
       "      <td>0.384678</td>\n",
       "    </tr>\n",
       "    <tr>\n",
       "      <th>3</th>\n",
       "      <td>4</td>\n",
       "      <td>0.484080</td>\n",
       "      <td>0.550043</td>\n",
       "      <td>0.558557</td>\n",
       "      <td>0.530951</td>\n",
       "      <td>0.522180</td>\n",
       "    </tr>\n",
       "    <tr>\n",
       "      <th>4</th>\n",
       "      <td>5</td>\n",
       "      <td>0.597913</td>\n",
       "      <td>0.670942</td>\n",
       "      <td>0.681991</td>\n",
       "      <td>0.670071</td>\n",
       "      <td>0.649644</td>\n",
       "    </tr>\n",
       "    <tr>\n",
       "      <th>5</th>\n",
       "      <td>6</td>\n",
       "      <td>0.699639</td>\n",
       "      <td>0.798453</td>\n",
       "      <td>0.809560</td>\n",
       "      <td>0.786305</td>\n",
       "      <td>0.773973</td>\n",
       "    </tr>\n",
       "    <tr>\n",
       "      <th>6</th>\n",
       "      <td>7</td>\n",
       "      <td>0.804652</td>\n",
       "      <td>0.932948</td>\n",
       "      <td>0.943915</td>\n",
       "      <td>0.906245</td>\n",
       "      <td>0.888073</td>\n",
       "    </tr>\n",
       "    <tr>\n",
       "      <th>7</th>\n",
       "      <td>8</td>\n",
       "      <td>0.913132</td>\n",
       "      <td>1.062909</td>\n",
       "      <td>1.071311</td>\n",
       "      <td>1.026644</td>\n",
       "      <td>0.994697</td>\n",
       "    </tr>\n",
       "  </tbody>\n",
       "</table>\n",
       "</div>"
      ],
      "text/plain": [
       "   weeks     freq1     freq2     freq3     freq4     freq5\n",
       "0      1  0.115788  0.139744  0.147729  0.143736  0.143736\n",
       "1      2  0.239116  0.259042  0.269880  0.276937  0.271861\n",
       "2      3  0.357969  0.397294  0.409082  0.391324  0.384678\n",
       "3      4  0.484080  0.550043  0.558557  0.530951  0.522180\n",
       "4      5  0.597913  0.670942  0.681991  0.670071  0.649644\n",
       "5      6  0.699639  0.798453  0.809560  0.786305  0.773973\n",
       "6      7  0.804652  0.932948  0.943915  0.906245  0.888073\n",
       "7      8  0.913132  1.062909  1.071311  1.026644  0.994697"
      ]
     },
     "execution_count": 24,
     "metadata": {},
     "output_type": "execute_result"
    }
   ],
   "source": [
    "# call the 'clv_calc` function to create a pandas dataframe `CLV8` \n",
    "# with shape (8, 6). One of the columns should be called 'weeks'\n",
    "# and the others 'freq1', 'freq2', etc.\n",
    "clv_calc(freq3, weeks, cogs, weekly_discount_rate)\n",
    "CLV8 = pd.DataFrame({\"weeks\": weeks, \n",
    "                    \"freq1\":clv_calc(freq1, weeks, cogs, weekly_discount_rate),\n",
    "                    \"freq2\":clv_calc(freq2, weeks, cogs, weekly_discount_rate), \n",
    "                    \"freq3\":clv_calc(freq3, weeks, cogs, weekly_discount_rate), \n",
    "                    \"freq4\":clv_calc(freq4, weeks, cogs, weekly_discount_rate),\n",
    "                    \"freq5\":clv_calc(freq5, weeks, cogs, weekly_discount_rate)\n",
    "                    })\n",
    "\n",
    "CLV8"
   ]
  },
  {
   "cell_type": "markdown",
   "metadata": {},
   "source": [
    "### Question 2: Create a line graph of the CLV values for each plan change over the 8 week period. Your code should create a single plot with 5 lines (2 points)"
   ]
  },
  {
   "cell_type": "code",
   "execution_count": 46,
   "metadata": {},
   "outputs": [
    {
     "data": {
      "text/plain": [
       "Text(0, 0.5, 'CLV')"
      ]
     },
     "execution_count": 46,
     "metadata": {},
     "output_type": "execute_result"
    },
    {
     "data": {
      "image/png": "[encoded data removed]",
      "text/plain": [
       "<Figure size 576x540 with 1 Axes>"
      ]
     },
     "metadata": {},
     "output_type": "display_data"
    }
   ],
   "source": [
    "# use seaborn to create a line chart that shows CLV over the 8 week period\n",
    "# for each of the 5 email frequencies (i.e., 1 plot with 5 lines)\n",
    "CLV8 = CLV8.set_index('weeks')\n",
    "sns.set(rc = {'figure.figsize':(8,7.5)})\n",
    "fig = sns.lineplot(data = CLV8)\n",
    "fig.set_xlabel(\"Weeks\", fontsize = 15)\n",
    "fig.set_ylabel(\"CLV\", fontsize = 15)"
   ]
  },
  {
   "cell_type": "markdown",
   "metadata": {},
   "source": [
    "### Question 3: What e-mail frequency should Pentathlon adopt based on the available data? (6 points)"
   ]
  },
  {
   "cell_type": "markdown",
   "metadata": {},
   "source": [
    "Based on available data, Pentathlon should adopt freq3, which lead to maximum CLV based on my model."
   ]
  },
  {
   "cell_type": "markdown",
   "metadata": {},
   "source": [
    "### Question 4: What e-mail frequency would you recommend if you considered a longer time horizon?"
   ]
  },
  {
   "cell_type": "markdown",
   "metadata": {},
   "source": [
    "I recommend send 2 promotional emails to customers per week. Although it shows that 3 emails can maximize CLV, most customers dislike too many promotional emails and will probably unsubscribe in the long run."
   ]
  },
  {
   "cell_type": "markdown",
   "metadata": {},
   "source": [
    "### Question 5: CLV over 104 weeks (4 points)\n",
    "\n",
    "Calculate the CLV for each of the 5 plans after 104 weeks using the average churn and revenue numbers from `pentathlon-2-avg.csv` in the git repo."
   ]
  },
  {
   "cell_type": "code",
   "execution_count": 52,
   "metadata": {},
   "outputs": [
    {
     "data": {
      "text/html": [
       "<div>\n",
       "<style scoped>\n",
       "    .dataframe tbody tr th:only-of-type {\n",
       "        vertical-align: middle;\n",
       "    }\n",
       "\n",
       "    .dataframe tbody tr th {\n",
       "        vertical-align: top;\n",
       "    }\n",
       "\n",
       "    .dataframe thead th {\n",
       "        text-align: right;\n",
       "    }\n",
       "</style>\n",
       "<table border=\"1\" class=\"dataframe\">\n",
       "  <thead>\n",
       "    <tr style=\"text-align: right;\">\n",
       "      <th></th>\n",
       "      <th>email_freq</th>\n",
       "      <th>schurn</th>\n",
       "      <th>rev_sub</th>\n",
       "      <th>rev_unsub</th>\n",
       "    </tr>\n",
       "  </thead>\n",
       "  <tbody>\n",
       "    <tr>\n",
       "      <th>0</th>\n",
       "      <td>freq1</td>\n",
       "      <td>0.004051</td>\n",
       "      <td>0.290003</td>\n",
       "      <td>0.123387</td>\n",
       "    </tr>\n",
       "    <tr>\n",
       "      <th>1</th>\n",
       "      <td>freq2</td>\n",
       "      <td>0.006266</td>\n",
       "      <td>0.340007</td>\n",
       "      <td>0.126506</td>\n",
       "    </tr>\n",
       "    <tr>\n",
       "      <th>2</th>\n",
       "      <td>freq3</td>\n",
       "      <td>0.023799</td>\n",
       "      <td>0.356240</td>\n",
       "      <td>0.144505</td>\n",
       "    </tr>\n",
       "    <tr>\n",
       "      <th>3</th>\n",
       "      <td>freq4</td>\n",
       "      <td>0.036650</td>\n",
       "      <td>0.355157</td>\n",
       "      <td>0.138084</td>\n",
       "    </tr>\n",
       "    <tr>\n",
       "      <th>4</th>\n",
       "      <td>freq5</td>\n",
       "      <td>0.055843</td>\n",
       "      <td>0.358784</td>\n",
       "      <td>0.131037</td>\n",
       "    </tr>\n",
       "  </tbody>\n",
       "</table>\n",
       "</div>"
      ],
      "text/plain": [
       "  email_freq    schurn   rev_sub  rev_unsub\n",
       "0      freq1  0.004051  0.290003   0.123387\n",
       "1      freq2  0.006266  0.340007   0.126506\n",
       "2      freq3  0.023799  0.356240   0.144505\n",
       "3      freq4  0.036650  0.355157   0.138084\n",
       "4      freq5  0.055843  0.358784   0.131037"
      ]
     },
     "execution_count": 52,
     "metadata": {},
     "output_type": "execute_result"
    }
   ],
   "source": [
    "# load input data for simulation here\n",
    "sim_clv = pd.read_csv(\"data/pentathlon-2-avg.csv\")\n",
    "freq1 = sim_clv.iloc[0,:]\n",
    "freq2 = sim_clv.iloc[1,:]\n",
    "freq3 = sim_clv.iloc[2,:]\n",
    "freq4 = sim_clv.iloc[3,:]\n",
    "freq5 = sim_clv.iloc[4,:]\n",
    "sim_clv"
   ]
  },
  {
   "cell_type": "code",
   "execution_count": 39,
   "metadata": {},
   "outputs": [],
   "source": [
    "# list your assumptions here\n",
    "weeks104 = np.arange(1, 104 + 1)\n",
    "cogs = 0.6\n",
    "annual_discount_rate = 0.1\n",
    "weekly_discount_rate = pow(1 + annual_discount_rate, (1 / 52)) - 1"
   ]
  },
  {
   "cell_type": "code",
   "execution_count": 40,
   "metadata": {},
   "outputs": [],
   "source": [
    "# calculate CLV for e-mail frequency 4 (i.e., freq4)\n",
    "# this will require calculating each of the following variables\n",
    "# each calculated object below should be either a float or of shape (104,)"
   ]
  },
  {
   "cell_type": "code",
   "execution_count": 45,
   "metadata": {},
   "outputs": [],
   "source": [
    "profit_subcribed104 = (1 - cogs) * freq4[\"rev_sub\"].repeat(104)\n",
    "profit_unsubscribed104 = (1 - cogs) * freq4[\"rev_unsub\"].repeat(104)\n",
    "probability_subscribed104 = (1 - freq4[\"schurn\"]).repeat(103).cumprod()\n",
    "probability_subscribed104 = np.insert(probability_subscribed104, 0, 1)\n",
    "probability_unsubscribed104 = 1 - probability_subscribed104\n",
    "expected_profit104 = profit_subcribed104 * probability_subscribed104 + profit_unsubscribed104 * probability_unsubscribed104\n",
    "pv_expected_profit104 = expected_profit104 / np.power(1 + weekly_discount_rate, weeks104)\n",
    "clv104 = np.cumsum(pv_expected_profit104)\n"
   ]
  },
  {
   "cell_type": "code",
   "execution_count": 46,
   "metadata": {},
   "outputs": [],
   "source": [
    "# calculate CLV for each of the 5 e-mail frequencies and combine the result in a dataframe\n",
    "# define a function \"sim_csv_calc\" to avoid repetitive code\n",
    "# note that the function must be defined in a cell above the code that calls the function"
   ]
  },
  {
   "cell_type": "code",
   "execution_count": 50,
   "metadata": {},
   "outputs": [],
   "source": [
    "def sim_clv_calc(df, weeks, cogs, wd):\n",
    "    \"\"\"\n",
    "    Calculate the cumulative present value of profits\n",
    "    and CLV for a pandas data frame with simulated \n",
    "    subscriber churn over a 104 week period\n",
    "    \n",
    "    Parameters\n",
    "    ----------\n",
    "    df : Pandas DataFrame (1, 4)\n",
    "        A DataFrame with revenue and attrition information\n",
    "    weeks : Numpy array \n",
    "        Array of shape (n,) with values 1 through n\n",
    "    cogs : float\n",
    "        Cost of Goods Sold\n",
    "    wd: float\n",
    "        Weekly discount rate\n",
    "        \n",
    "    Returns\n",
    "    -------\n",
    "    Pandas series of shape (n,)\n",
    "        CLV values calculate for week 1 through week n\n",
    "\n",
    "    \"\"\"\n",
    "\n",
    "    profit_subcribed104 = (1 - cogs) * df[\"rev_sub\"].repeat(104)\n",
    "    profit_unsubscribed104 = (1 - cogs) * df[\"rev_unsub\"].repeat(104)\n",
    "    probability_subscribed104 = (1 - df[\"schurn\"]).repeat(103).cumprod()\n",
    "    probability_subscribed104 = np.insert(probability_subscribed104, 0, 1)\n",
    "    probability_unsubscribed104 = 1 - probability_subscribed104\n",
    "    expected_profit104 = profit_subcribed104 * probability_subscribed104 + profit_unsubscribed104 * probability_unsubscribed104\n",
    "    pv_expected_profit104 = expected_profit104 / np.power(1 + wd, weeks104)\n",
    "    clv104 = np.cumsum(pv_expected_profit104)\n",
    "    \n",
    "    return clv104.astype(np.float64)"
   ]
  },
  {
   "cell_type": "code",
   "execution_count": 51,
   "metadata": {},
   "outputs": [
    {
     "data": {
      "text/html": [
       "<div>\n",
       "<style scoped>\n",
       "    .dataframe tbody tr th:only-of-type {\n",
       "        vertical-align: middle;\n",
       "    }\n",
       "\n",
       "    .dataframe tbody tr th {\n",
       "        vertical-align: top;\n",
       "    }\n",
       "\n",
       "    .dataframe thead th {\n",
       "        text-align: right;\n",
       "    }\n",
       "</style>\n",
       "<table border=\"1\" class=\"dataframe\">\n",
       "  <thead>\n",
       "    <tr style=\"text-align: right;\">\n",
       "      <th></th>\n",
       "      <th>weeks</th>\n",
       "      <th>freq1</th>\n",
       "      <th>freq2</th>\n",
       "      <th>freq3</th>\n",
       "      <th>freq4</th>\n",
       "      <th>freq5</th>\n",
       "    </tr>\n",
       "  </thead>\n",
       "  <tbody>\n",
       "    <tr>\n",
       "      <th>0</th>\n",
       "      <td>1</td>\n",
       "      <td>0.115789</td>\n",
       "      <td>0.135754</td>\n",
       "      <td>0.142235</td>\n",
       "      <td>0.141803</td>\n",
       "      <td>0.143251</td>\n",
       "    </tr>\n",
       "    <tr>\n",
       "      <th>1</th>\n",
       "      <td>2</td>\n",
       "      <td>0.231097</td>\n",
       "      <td>0.270726</td>\n",
       "      <td>0.282201</td>\n",
       "      <td>0.280175</td>\n",
       "      <td>0.281171</td>\n",
       "    </tr>\n",
       "    <tr>\n",
       "      <th>2</th>\n",
       "      <td>3</td>\n",
       "      <td>0.345926</td>\n",
       "      <td>0.404922</td>\n",
       "      <td>0.419954</td>\n",
       "      <td>0.415245</td>\n",
       "      <td>0.414061</td>\n",
       "    </tr>\n",
       "    <tr>\n",
       "      <th>3</th>\n",
       "      <td>4</td>\n",
       "      <td>0.460279</td>\n",
       "      <td>0.538348</td>\n",
       "      <td>0.555548</td>\n",
       "      <td>0.547136</td>\n",
       "      <td>0.542207</td>\n",
       "    </tr>\n",
       "    <tr>\n",
       "      <th>4</th>\n",
       "      <td>5</td>\n",
       "      <td>0.574159</td>\n",
       "      <td>0.671009</td>\n",
       "      <td>0.689036</td>\n",
       "      <td>0.675966</td>\n",
       "      <td>0.665875</td>\n",
       "    </tr>\n",
       "    <tr>\n",
       "      <th>...</th>\n",
       "      <td>...</td>\n",
       "      <td>...</td>\n",
       "      <td>...</td>\n",
       "      <td>...</td>\n",
       "      <td>...</td>\n",
       "      <td>...</td>\n",
       "    </tr>\n",
       "    <tr>\n",
       "      <th>99</th>\n",
       "      <td>100</td>\n",
       "      <td>9.547118</td>\n",
       "      <td>10.480720</td>\n",
       "      <td>8.333190</td>\n",
       "      <td>7.253408</td>\n",
       "      <td>6.360057</td>\n",
       "    </tr>\n",
       "    <tr>\n",
       "      <th>100</th>\n",
       "      <td>101</td>\n",
       "      <td>9.625036</td>\n",
       "      <td>10.560623</td>\n",
       "      <td>8.387553</td>\n",
       "      <td>7.301032</td>\n",
       "      <td>6.403855</td>\n",
       "    </tr>\n",
       "    <tr>\n",
       "      <th>101</th>\n",
       "      <td>102</td>\n",
       "      <td>9.702663</td>\n",
       "      <td>10.640142</td>\n",
       "      <td>8.441666</td>\n",
       "      <td>7.348505</td>\n",
       "      <td>6.447561</td>\n",
       "    </tr>\n",
       "    <tr>\n",
       "      <th>102</th>\n",
       "      <td>103</td>\n",
       "      <td>9.779999</td>\n",
       "      <td>10.719281</td>\n",
       "      <td>8.495534</td>\n",
       "      <td>7.395831</td>\n",
       "      <td>6.491173</td>\n",
       "    </tr>\n",
       "    <tr>\n",
       "      <th>103</th>\n",
       "      <td>104</td>\n",
       "      <td>9.857046</td>\n",
       "      <td>10.798043</td>\n",
       "      <td>8.549160</td>\n",
       "      <td>7.443012</td>\n",
       "      <td>6.534694</td>\n",
       "    </tr>\n",
       "  </tbody>\n",
       "</table>\n",
       "<p>104 rows × 6 columns</p>\n",
       "</div>"
      ],
      "text/plain": [
       "     weeks     freq1      freq2     freq3     freq4     freq5\n",
       "0        1  0.115789   0.135754  0.142235  0.141803  0.143251\n",
       "1        2  0.231097   0.270726  0.282201  0.280175  0.281171\n",
       "2        3  0.345926   0.404922  0.419954  0.415245  0.414061\n",
       "3        4  0.460279   0.538348  0.555548  0.547136  0.542207\n",
       "4        5  0.574159   0.671009  0.689036  0.675966  0.665875\n",
       "..     ...       ...        ...       ...       ...       ...\n",
       "99     100  9.547118  10.480720  8.333190  7.253408  6.360057\n",
       "100    101  9.625036  10.560623  8.387553  7.301032  6.403855\n",
       "101    102  9.702663  10.640142  8.441666  7.348505  6.447561\n",
       "102    103  9.779999  10.719281  8.495534  7.395831  6.491173\n",
       "103    104  9.857046  10.798043  8.549160  7.443012  6.534694\n",
       "\n",
       "[104 rows x 6 columns]"
      ]
     },
     "execution_count": 51,
     "metadata": {},
     "output_type": "execute_result"
    }
   ],
   "source": [
    "# calculate CLV for each of the 5 e-mail frequencies and combine the result in a dataframe\n",
    "# with shape (104, 6) using your sim_clv_calc function\n",
    "# the column names should be freq1-freq5 and weeks\n",
    "CLV104 = pd.DataFrame({\"weeks\": weeks104, \n",
    "                    \"freq1\":sim_clv_calc(freq1, weeks104, cogs, weekly_discount_rate),\n",
    "                    \"freq2\":sim_clv_calc(freq2, weeks104, cogs, weekly_discount_rate), \n",
    "                    \"freq3\":sim_clv_calc(freq3, weeks104, cogs, weekly_discount_rate), \n",
    "                    \"freq4\":sim_clv_calc(freq4, weeks104, cogs, weekly_discount_rate),\n",
    "                    \"freq5\":sim_clv_calc(freq5, weeks104, cogs, weekly_discount_rate)\n",
    "                    })\n",
    "\n",
    "\n",
    "CLV104"
   ]
  },
  {
   "cell_type": "markdown",
   "metadata": {},
   "source": [
    "### Question 6 (2 points)\n",
    "\n",
    "Create a line chart that shows CLV over the 104 week period for each of the 5 email frequencies (i.e., 1 plot with 5 lines)"
   ]
  },
  {
   "cell_type": "code",
   "execution_count": 37,
   "metadata": {},
   "outputs": [
    {
     "data": {
      "text/plain": [
       "Text(0, 0.5, 'CLV')"
      ]
     },
     "execution_count": 37,
     "metadata": {},
     "output_type": "execute_result"
    },
    {
     "data": {
      "image/png": "[encoded data removed]",
      "text/plain": [
       "<Figure size 576x540 with 1 Axes>"
      ]
     },
     "metadata": {},
     "output_type": "display_data"
    }
   ],
   "source": [
    "CLV104 = CLV104.set_index('weeks')\n",
    "sns.set(rc = {'figure.figsize':(8,7.5)})\n",
    "fig = sns.lineplot(data = CLV104)\n",
    "fig.set_xlabel(\"Weeks\", fontsize = 15)\n",
    "fig.set_ylabel(\"CLV\", fontsize = 15)"
   ]
  },
  {
   "cell_type": "markdown",
   "metadata": {},
   "source": [
    "### Question 7 (2 points)\n",
    "\n",
    "Are your results consistent with your answer to question 3? Why (or why not)? "
   ]
  },
  {
   "cell_type": "markdown",
   "metadata": {},
   "source": [
    "No, because the data used for question 3 comes from real life but the data used for this question is a 'idealized' data, that is, revenue and churn rate are the same across all weeks. Thus, the assumption for question 7 is more stronger than question 3, leading to different result."
   ]
  },
  {
   "cell_type": "markdown",
   "metadata": {},
   "source": [
    "### Question 8 (5 points)\n",
    "\n",
    "Discuss at least two limitations of the experiment. How would you address these limitations?"
   ]
  },
  {
   "cell_type": "markdown",
   "metadata": {},
   "source": [
    "1. The experiment did not consider customers who has unsubscribed before but choose to subscribe again. If that is possible, I will calculate a resubscribe rate and incorporate this information in the model.\n",
    "2. Although all customers are randomly assigned in each group, not all customers are the most profitable customers. I will do another experiment that only randomly assign the most profitable customers and calculate CLV under different email frequency again to determine what frequency is the best choice."
   ]
  }
 ],
 "metadata": {
  "jupytext": {
   "cell_metadata_filter": "-all",
   "main_language": "python",
   "notebook_metadata_filter": "-all"
  },
  "kernelspec": {
   "display_name": "Python 3",
   "language": "python",
   "name": "python3"
  },
  "language_info": {
   "codemirror_mode": {
    "name": "ipython",
    "version": 3
   },
   "file_extension": ".py",
   "mimetype": "text/x-python",
   "name": "python",
   "nbconvert_exporter": "python",
   "pygments_lexer": "ipython3",
   "version": "3.8.5"
  }
 },
 "nbformat": 4,
 "nbformat_minor": 4
}
